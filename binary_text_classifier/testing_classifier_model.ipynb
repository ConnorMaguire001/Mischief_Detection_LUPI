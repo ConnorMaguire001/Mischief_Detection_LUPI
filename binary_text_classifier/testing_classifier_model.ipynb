{
 "cells": [
  {
   "cell_type": "code",
   "execution_count": 3,
   "metadata": {},
   "outputs": [],
   "source": [
    "import keras \n",
    "import tensorflow as tf\n",
    "from tensorflow.keras import layers\n",
    "from tensorflow.keras.optimizers import SGD\n",
    "from keras.layers import Embedding\n",
    "import pandas as pd \n",
    "import numpy as np\n",
    "import json"
   ]
  },
  {
   "cell_type": "code",
   "execution_count": 4,
   "metadata": {},
   "outputs": [],
   "source": [
    "model = tf.keras.models.load_model('mymodel')"
   ]
  },
  {
   "cell_type": "code",
   "execution_count": 5,
   "metadata": {},
   "outputs": [],
   "source": [
    "#import training data \n",
    "f = open('test_features_binary_allCaps.json')\n",
    "feats = json.load(f)"
   ]
  },
  {
   "cell_type": "code",
   "execution_count": 15,
   "metadata": {},
   "outputs": [
    {
     "data": {
      "text/plain": [
       "(113,)"
      ]
     },
     "execution_count": 15,
     "metadata": {},
     "output_type": "execute_result"
    }
   ],
   "source": [
    "#pulling expected labels from JSON\n",
    "expected_labels = []\n",
    "for x in feats: \n",
    "    expected_labels.append(feats.get(x)['label'])\n",
    "\n",
    "expected_labels = np.asarray(expected_labels)\n",
    "np.shape(expected_labels)\n"
   ]
  },
  {
   "cell_type": "code",
   "execution_count": 28,
   "metadata": {},
   "outputs": [
    {
     "data": {
      "text/plain": [
       "(113, 512)"
      ]
     },
     "execution_count": 28,
     "metadata": {},
     "output_type": "execute_result"
    }
   ],
   "source": [
    "#pulling input_ids \n",
    "word_index_ids = []\n",
    "for x in feats: \n",
    "    word_index_ids.append(feats.get(x)['indexes'])\n",
    "\n",
    "#padding input_ids \n",
    "max_sequence_length = 512\n",
    "\n",
    "padded_word_index_ids = []\n",
    "for input_id in word_index_ids:\n",
    "    if len(input_id) < max_sequence_length:\n",
    "      padded_word_index_ids.append(input_id + [0] * (max_sequence_length - len(input_id)))\n",
    "    else:\n",
    "      padded_word_index_ids.append(input_id)\n",
    "\n",
    "#convert to array\n",
    "padded_word_index_ids = np.asarray(padded_word_index_ids)\n",
    "\n",
    "#final shape\n",
    "np.shape(padded_word_index_ids)"
   ]
  },
  {
   "cell_type": "code",
   "execution_count": 8,
   "metadata": {},
   "outputs": [
    {
     "data": {
      "text/plain": [
       "(113, 512)"
      ]
     },
     "execution_count": 8,
     "metadata": {},
     "output_type": "execute_result"
    }
   ],
   "source": [
    "#pulling caption_ids \n",
    "cap_index_ids = []\n",
    "for x in feats: \n",
    "    cap_index_ids.append(feats.get(x)['caps_index'])\n",
    "\n",
    "#padding caps_index\n",
    "max_sequence_length = 512\n",
    "\n",
    "padded_cap_index_ids = []\n",
    "for input_id in cap_index_ids:\n",
    "    if len(input_id) < max_sequence_length:\n",
    "      padded_cap_index_ids.append(input_id + [0] * (max_sequence_length - len(input_id)))\n",
    "    else:\n",
    "      padded_cap_index_ids.append(input_id)\n",
    "\n",
    "\n",
    "#convert to array\n",
    "padded_cap_index_ids = np.asarray(padded_cap_index_ids)\n",
    "\n",
    "#final shape\n",
    "np.shape(padded_cap_index_ids)"
   ]
  },
  {
   "cell_type": "code",
   "execution_count": 13,
   "metadata": {},
   "outputs": [
    {
     "name": "stdout",
     "output_type": "stream",
     "text": [
      "Model: \"model_3\"\n",
      "__________________________________________________________________________________________________\n",
      " Layer (type)                   Output Shape         Param #     Connected to                     \n",
      "==================================================================================================\n",
      " input_7 (InputLayer)           [(None, 512)]        0           []                               \n",
      "                                                                                                  \n",
      " input_8 (InputLayer)           [(None, 512)]        0           []                               \n",
      "                                                                                                  \n",
      " concatenate_3 (Concatenate)    (None, 1024)         0           ['input_7[0][0]',                \n",
      "                                                                  'input_8[0][0]']                \n",
      "                                                                                                  \n",
      " dense_12 (Dense)               (None, 512)          524800      ['concatenate_3[0][0]']          \n",
      "                                                                                                  \n",
      " dense_13 (Dense)               (None, 512)          262656      ['dense_12[0][0]']               \n",
      "                                                                                                  \n",
      " dense_14 (Dense)               (None, 512)          262656      ['dense_13[0][0]']               \n",
      "                                                                                                  \n",
      " dense_15 (Dense)               (None, 1)            513         ['dense_14[0][0]']               \n",
      "                                                                                                  \n",
      "==================================================================================================\n",
      "Total params: 1,050,625\n",
      "Trainable params: 1,050,625\n",
      "Non-trainable params: 0\n",
      "__________________________________________________________________________________________________\n"
     ]
    }
   ],
   "source": [
    "model.summary()"
   ]
  },
  {
   "cell_type": "code",
   "execution_count": 33,
   "metadata": {},
   "outputs": [
    {
     "name": "stdout",
     "output_type": "stream",
     "text": [
      "Test loss: 0.810252845287323\n",
      "Test accuracy: 0.7345132827758789\n"
     ]
    }
   ],
   "source": [
    "score = model.evaluate((padded_word_index_ids, padded_cap_index_ids), expected_labels, verbose= 0)\n",
    "print('Test loss:', score[0])\n",
    "print('Test accuracy:', score[1])"
   ]
  }
 ],
 "metadata": {
  "kernelspec": {
   "display_name": "Python 3",
   "language": "python",
   "name": "python3"
  },
  "language_info": {
   "codemirror_mode": {
    "name": "ipython",
    "version": 3
   },
   "file_extension": ".py",
   "mimetype": "text/x-python",
   "name": "python",
   "nbconvert_exporter": "python",
   "pygments_lexer": "ipython3",
   "version": "3.11.3"
  },
  "orig_nbformat": 4
 },
 "nbformat": 4,
 "nbformat_minor": 2
}
