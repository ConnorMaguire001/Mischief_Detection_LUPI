{
  "cells": [
    {
      "cell_type": "code",
      "execution_count": 3,
      "metadata": {
        "colab": {
          "base_uri": "https://localhost:8080/"
        },
        "id": "nVRKNvLqn9le",
        "outputId": "0c8ec0ff-de9a-4f55-d443-5854f4906532"
      },
      "outputs": [
        {
          "name": "stdout",
          "output_type": "stream",
          "text": [
            "Looking in indexes: https://pypi.org/simple, https://us-python.pkg.dev/colab-wheels/public/simple/\n",
            "Collecting py_youtube\n",
            "  Downloading py_youtube-1.1.7-py3-none-any.whl (10 kB)\n",
            "Installing collected packages: py_youtube\n",
            "Successfully installed py_youtube-1.1.7\n"
          ]
        }
      ],
      "source": [
        "#!pip install py_youtube"
      ]
    },
    {
      "cell_type": "code",
      "execution_count": 4,
      "metadata": {
        "id": "_eQaUe32n8hR"
      },
      "outputs": [],
      "source": [
        "from py_youtube import Data\n",
        "import json\n",
        "import pandas\n",
        "import numpy"
      ]
    },
    {
      "cell_type": "code",
      "execution_count": 5,
      "metadata": {
        "colab": {
          "base_uri": "https://localhost:8080/"
        },
        "id": "g5VEyj8SoA_u",
        "outputId": "d1314247-1ec7-4127-db87-59336222fa87"
      },
      "outputs": [
        {
          "data": {
            "text/plain": [
              "{'id': 'zvq9r6R6QAY',\n",
              " 'title': 'Caramella Girls - Caramelldansen Swedish Original (Official)',\n",
              " 'thumbnails': 'https://i.ytimg.com/vi/zvq9r6R6QAY/hqdefault.jpg?sqp=-oaymwE1CKgBEF5IVfKriqkDKAgBFQAAiEIYAXABwAEG8AEB-AGoA4ACvgKKAgwIABABGGUgUihFMA8=\\\\u0026rs=AOn4CLB6ixfrj3eWVLBHB1kvZ5d1C6wSAA',\n",
              " 'views': '19595095',\n",
              " 'likes': None,\n",
              " 'dislikes': None,\n",
              " 'publishdate': '2008-05-19',\n",
              " 'category': 'Music',\n",
              " 'channel_name': 'Caramella Girls',\n",
              " 'subscriber': '30.2萬位訂閱者',\n",
              " 'keywords': 'caramelldansen, caramella girls, dansen, speedy, mixes, official, music, video, swedish, remixed, records, original, Caramellagirls, Kawaii, Anime, Manga, Mindy, Vera, Nadine, Youtubers, Music, Pop, Remixed, Swedish, Caramella, Popgirls, Mime, Dance, Caramella girls songs, Sing along, Karaoke, Music video, Caramella girls'}"
            ]
          },
          "execution_count": 5,
          "metadata": {},
          "output_type": "execute_result"
        }
      ],
      "source": [
        "#Example of scraping metadata\n",
        "video_url = 'https://www.youtube.com/watch?v=zvq9r6R6QAY'\n",
        "data = Data(video_url).data()\n",
        "data"
      ]
    },
    {
      "cell_type": "code",
      "execution_count": 6,
      "metadata": {
        "id": "7PDkDxjRoCyt"
      },
      "outputs": [],
      "source": [
        "#Loading Ela's represetation dataset as dict\n",
        "#You may have to change the file path depending on where you've saved the file\n",
        "\n",
        "f = open('/training_features_binary_allCaps.json')\n",
        "reps = json.load(f)\n",
        "\n",
        "#reps.keys()"
      ]
    },
    {
      "cell_type": "code",
      "execution_count": 7,
      "metadata": {
        "colab": {
          "base_uri": "https://localhost:8080/"
        },
        "id": "022TsnTjoEx2",
        "outputId": "9ad16a24-ea2b-47be-ef37-ded12620b986"
      },
      "outputs": [
        {
          "data": {
            "text/plain": [
              "{'id': 'xObv_BmYmhg',\n",
              " 'title': 'The Golden Globes Honor Ellen’s Incredible Career',\n",
              " 'thumbnails': 'https://i.ytimg.com/vi/xObv_BmYmhg/hqdefault.jpg?sqp=-oaymwEbCKgBEF5IVfKriqkDDggBFQAAiEIYAXABwAEG\\\\u0026rs=AOn4CLBP6uSq-SnFkyFlgWDNFkG1HaOcBg',\n",
              " 'views': '466056',\n",
              " 'likes': None,\n",
              " 'dislikes': None,\n",
              " 'publishdate': '2020-01-07',\n",
              " 'category': 'Entertainment',\n",
              " 'channel_name': 'TheEllenShow',\n",
              " 'subscriber': '3820萬位訂閱者',\n",
              " 'keywords': 'plm, ellen, ellen degeneres, the ellen degeneres show, ellentube, season 17, season 17 episode 64, golden globes, 2020 golden globes, golden globes montage, ellen golden globes, ellen montage, carol burnett award, 77th annual golden globes, ellen golden globes win, golden globes win, carol burnett, ellen&#39;s career, ellen fans, ellen audience, ellen show'}"
            ]
          },
          "execution_count": 7,
          "metadata": {},
          "output_type": "execute_result"
        }
      ],
      "source": [
        "#Function that converts the video id's from the dataset into usable youtube links\n",
        "#The links are then used to scrape for metadata \n",
        "\n",
        "def get_metadata(string):\n",
        "    ident = string[:-3]\n",
        "    video_url = 'https://www.youtube.com/watch?v=' + ident\n",
        "    data = Data(video_url).data()\n",
        "    return data\n",
        "\n",
        "#example of video id from dataset => metadata\n",
        "get_metadata('xObv_BmYmhg.01')"
      ]
    },
    {
      "cell_type": "code",
      "execution_count": 8,
      "metadata": {
        "colab": {
          "base_uri": "https://localhost:8080/"
        },
        "id": "nj9DqpPKoH5n",
        "outputId": "fef932ab-7f81-4a0c-9a08-240d8935ba42"
      },
      "outputs": [
        {
          "name": "stdout",
          "output_type": "stream",
          "text": [
            "CPU times: user 43.7 s, sys: 3.59 s, total: 47.3 s\n",
            "Wall time: 6min 51s\n"
          ]
        }
      ],
      "source": [
        "# Creates an new dictionary for metadata {Video_ID:{Metadata}}\n",
        "\n",
        "my_dict ={}\n",
        "\n",
        "for x in reps:\n",
        "    metadata = get_metadata(x)\n",
        "    del metadata['id']\n",
        "    my_dict.update({x:metadata})\n"
      ]
    },
    {
      "cell_type": "code",
      "execution_count": 9,
      "metadata": {
        "id": "ia5AabIUoKM0"
      },
      "outputs": [],
      "source": [
        "#dumps the metadata dictionary into a json file \n",
        "\n",
        "\n",
        "#with open('training_metadata.json', 'w') as fp:\n",
        "#    json.dump(my_dict, fp)"
      ]
    }
  ],
  "metadata": {
    "colab": {
      "gpuType": "T4",
      "provenance": []
    },
    "kernelspec": {
      "display_name": "Python 3",
      "name": "python3"
    },
    "language_info": {
      "name": "python"
    }
  },
  "nbformat": 4,
  "nbformat_minor": 0
}
